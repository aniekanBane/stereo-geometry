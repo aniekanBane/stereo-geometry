{
 "cells": [
  {
   "cell_type": "markdown",
   "metadata": {},
   "source": [
    "# Stereo camera calibration\n",
    "Intrinsic and Extrinsic parameters of single calibrated images"
   ]
  },
  {
   "cell_type": "code",
   "execution_count": 1,
   "metadata": {},
   "outputs": [],
   "source": [
    "import cv2\n",
    "import numpy as np\n",
    "import glob\n",
    "from matplotlib import pyplot as plt\n",
    "%matplotlib inline"
   ]
  },
  {
   "cell_type": "code",
   "execution_count": 2,
   "metadata": {},
   "outputs": [],
   "source": [
    "criteria = (cv2.TERM_CRITERIA_EPS + cv2.TERM_CRITERIA_MAX_ITER, 30, 0.001)\n",
    "BOARD = (7,7)\n",
    "squareSize = 0.125 #size of single chessboard square in mm\n",
    "image_size = None"
   ]
  },
  {
   "cell_type": "code",
   "execution_count": 3,
   "metadata": {},
   "outputs": [],
   "source": [
    "wp = np.zeros((1,BOARD[0]*BOARD[1],3), dtype=np.float32)\n",
    "wp[0,:,:2] = np.mgrid[0:BOARD[0], 0:BOARD[1]].T.reshape(-1, 2)\n",
    "wp = wp * squareSize"
   ]
  },
  {
   "cell_type": "code",
   "execution_count": 4,
   "metadata": {},
   "outputs": [],
   "source": [
    " # Arrays to store object points and image points from all the images.\n",
    "wpoints = []  # 3d point in real world space\n",
    "left_imgpoints = []  # 2d points in image plane.\n",
    "right_imgpoints = []  # 2d points in image plane."
   ]
  },
  {
   "cell_type": "code",
   "execution_count": 6,
   "metadata": {},
   "outputs": [
    {
     "name": "stdout",
     "output_type": "stream",
     "text": [
      "Corner detection Summary\n",
      "From the 80 samples\n",
      "Accepted Pairs: 22\n",
      "Rejected Pairs: 58\n"
     ]
    }
   ],
   "source": [
    "left_images = glob.glob('left/*.png')\n",
    "right_images = glob.glob('right/*.png')\n",
    "\n",
    "if len(left_images) != len(right_images):\n",
    "    raise ValueError('Must have same number of files in both directories')\n",
    "    print(\"Left images count: \", len(left_images))\n",
    "    print(\"Right images count: \", len(right_images))\n",
    "    raise\n",
    "\n",
    "left_images.sort()\n",
    "right_images.sort()\n",
    "image_pairs = zip(left_images, right_images)\n",
    "\n",
    "valid = 0\n",
    "false = 0\n",
    "for left,right in image_pairs:\n",
    "    # Images\n",
    "    imgL = cv2.imread(left,0) # left (monochrome)\n",
    "    imgR = cv2.imread(right,0) # right (monochrome)\n",
    "    \n",
    "    # Find chessboard corners\n",
    "    ret_left, corners_left = cv2.findChessboardCorners(imgL, BOARD,\n",
    "                                                       flags=cv2.CALIB_CB_ADAPTIVE_THRESH | cv2.CALIB_CB_FILTER_QUADS)\n",
    "                                                       \n",
    "    ret_right, corners_right = cv2.findChessboardCorners(imgR, BOARD,\n",
    "                                                       flags=cv2.CALIB_CB_ADAPTIVE_THRESH | cv2.CALIB_CB_FILTER_QUADS)\n",
    "    \n",
    "    # If found, add object points and image points(refinied)\n",
    "    if ret_left and ret_right:\n",
    "        # Object points\n",
    "        wpoints.append(wp)\n",
    "        # Left points\n",
    "        refined_corners_left = cv2.cornerSubPix(imgL, corners_left, (11,11),(-1,-1), criteria) \n",
    "        left_imgpoints.append(refined_corners_left) \n",
    "        imageL = cv2.drawChessboardCorners(imgL, BOARD, refined_corners_left, ret_left)\n",
    "        # Right points\n",
    "        refined_corners_right = cv2.cornerSubPix(imgR, corners_right, (11,11),(-1,-1), criteria) \n",
    "        right_imgpoints.append(refined_corners_left) \n",
    "        valid += 1 \n",
    "        imageR = cv2.drawChessboardCorners(imgR, BOARD, refined_corners_right, ret_right)\n",
    "    else:\n",
    "        false += 1\n",
    "        # points were not found\n",
    "        #print(\"Chessboard wasn't detected. Image pair: \", left, \" and \", right)\n",
    "        #continue\n",
    "    \n",
    "    #cv2.imshow('Left Points', imageL)\n",
    "    #cv2.imshow('Right Points', imageR)\n",
    "    #cv2.waitKey(0)\n",
    "    #cv2.destroyAllWindows()\n",
    "print(\"Corner detection Summary\\nFrom the {} samples\\n\\\n",
    "Accepted Pairs: {}\\nRejected Pairs: {}\".format(len(left_images),valid,false))"
   ]
  },
  {
   "cell_type": "code",
   "execution_count": 7,
   "metadata": {},
   "outputs": [
    {
     "name": "stdout",
     "output_type": "stream",
     "text": [
      "Starting Calibration...\n",
      "Calibration complete!\n",
      "\n",
      "Stereo Calibration Parameters\n",
      "\n",
      "rms: 0.9531273238871255\n",
      "\n",
      "Intricsic matrix:\n",
      "[[2.39280981e+03 0.00000000e+00 1.01760868e+03]\n",
      " [0.00000000e+00 2.39226392e+03 1.02638707e+03]\n",
      " [0.00000000e+00 0.00000000e+00 1.00000000e+00]]\n",
      "\n",
      "Distortion coefficients:\n",
      "[-7.92927220e-03  1.79030072e-01  4.92755444e-04 -4.74009098e-04\n",
      " -1.05186700e+00]\n",
      "\n",
      "Rotation vector:\n",
      "[[ 1.00000000e+00 -3.37889648e-14 -1.40571576e-14]\n",
      " [ 3.37889648e-14  1.00000000e+00  5.84283209e-14]\n",
      " [ 1.40571576e-14 -5.84283209e-14  1.00000000e+00]]\n",
      "              \n",
      "Translation vector:\n",
      "[[ 4.06789822e-14]\n",
      " [-1.35485377e-13]\n",
      " [ 4.34541057e-14]]\n"
     ]
    }
   ],
   "source": [
    "# Calibrate cameras\n",
    "print(\"Starting Calibration...\")\n",
    "h, w = imgL.shape\n",
    "ret_l, K1, D1, rvec_l, tvec_l = cv2.calibrateCamera(wpoints, left_imgpoints, (w, h) , None, None)\n",
    "n_K1, roi_l = cv2.getOptimalNewCameraMatrix(K1, D1, (w, h), 1, (w, h))\n",
    "\n",
    "ret_r, K2, D2, rvec_r, tvec_r = cv2.calibrateCamera(wpoints, right_imgpoints,(w, h) , None, None)\n",
    "n_K2, roi_r = cv2.getOptimalNewCameraMatrix(K2, D2, (w, h), 1, (w, h))\n",
    "\n",
    "# Stereo calibration\n",
    "flag = 0\n",
    "flag = cv2.CALIB_SAME_FOCAL_LENGTH | cv2.CALIB_FIX_INTRINSIC\n",
    "ret, intr_l, dist_l, intr_r, dist_r, R, T, E, F = cv2.stereoCalibrate(wpoints, left_imgpoints, right_imgpoints, n_K1, \n",
    "                                                                      D1, n_K2, D2, (w, h),flags=flag,criteria=criteria)\n",
    "print(\"Calibration complete!\")\n",
    "# Display results\n",
    "print(\"\\nStereo Calibration Parameters\\n\")\n",
    "print('rms: {}\\n\\nIntricsic matrix:\\n{}\\n\\nDistortion coefficients:\\n{}\\n\\nRotation vector:\\n{}\\n\\\n",
    "              \\nTranslation vector:\\n{}'.format(ret, intr_l, dist_l.ravel(), R, T),end=\"\\n\")"
   ]
  },
  {
   "cell_type": "code",
   "execution_count": 7,
   "metadata": {},
   "outputs": [],
   "source": [
    "# Rectify images\n",
    "R1, R2, P1, P2, Q, J1, J2 = cv2.stereoRectify(intr_l, dist_l, intr_r, dist_r, (w, h), R, T, alpha=0.9)\n",
    "leftMapX, leftMapY = cv2.initUndistortRectifyMap(intr_l, dist_l, R1, P1, (w, h), cv2.CV_32FC1)\n",
    "left_rectified = cv2.remap(imageL, leftMapX, leftMapY, cv2.INTER_LINEAR, cv2.BORDER_CONSTANT)\n",
    "rightMapX, rightMapY = cv2.initUndistortRectifyMap(intr_r, dist_r, R2, P2, (w, h), cv2.CV_32FC1)\n",
    "right_rectified = cv2.remap(imageR, rightMapX, rightMapY, cv2.INTER_LINEAR, cv2.BORDER_CONSTANT)"
   ]
  },
  {
   "cell_type": "code",
   "execution_count": 10,
   "metadata": {},
   "outputs": [
    {
     "data": {
      "text/plain": [
       "13"
      ]
     },
     "execution_count": 10,
     "metadata": {},
     "output_type": "execute_result"
    }
   ],
   "source": []
  },
  {
   "cell_type": "code",
   "execution_count": null,
   "metadata": {},
   "outputs": [],
   "source": []
  }
 ],
 "metadata": {
  "kernelspec": {
   "display_name": "Python 3",
   "language": "python",
   "name": "python3"
  },
  "language_info": {
   "codemirror_mode": {
    "name": "ipython",
    "version": 3
   },
   "file_extension": ".py",
   "mimetype": "text/x-python",
   "name": "python",
   "nbconvert_exporter": "python",
   "pygments_lexer": "ipython3",
   "version": "3.8.5"
  }
 },
 "nbformat": 4,
 "nbformat_minor": 4
}
