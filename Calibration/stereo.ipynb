{
 "cells": [
  {
   "cell_type": "markdown",
   "metadata": {},
   "source": [
    "# Stereo camera calibration\n",
    "Intrinsic and Extrinsic parameters of single calibrated images"
   ]
  },
  {
   "cell_type": "code",
   "execution_count": 1,
   "metadata": {},
   "outputs": [],
   "source": [
    "import cv2\n",
    "import numpy as np\n",
    "import glob\n",
    "from matplotlib import pyplot as plt\n",
    "%matplotlib inline"
   ]
  },
  {
   "cell_type": "code",
   "execution_count": 2,
   "metadata": {},
   "outputs": [],
   "source": [
    "criteria = (cv2.TERM_CRITERIA_EPS + cv2.TERM_CRITERIA_MAX_ITER, 30, 0.001)\n",
    "BOARD = (7,7)\n",
    "squareSize = 0.125 #size of single chessboard square in mm\n",
    "image_size = None"
   ]
  },
  {
   "cell_type": "code",
   "execution_count": 3,
   "metadata": {},
   "outputs": [],
   "source": [
    "wp = np.zeros((1,BOARD[0]*BOARD[1],3), dtype=np.float32)\n",
    "wp[0,:,:2] = np.mgrid[0:BOARD[0], 0:BOARD[1]].T.reshape(-1, 2)\n",
    "wp = wp * squareSize"
   ]
  },
  {
   "cell_type": "code",
   "execution_count": 4,
   "metadata": {},
   "outputs": [],
   "source": [
    " # Arrays to store object points and image points from all the images.\n",
    "wpoints = []  # 3d point in real world space\n",
    "left_imgpoints = []  # 2d points in image plane.\n",
    "right_imgpoints = []  # 2d points in image plane."
   ]
  },
  {
   "cell_type": "code",
   "execution_count": 5,
   "metadata": {},
   "outputs": [
    {
     "name": "stdout",
     "output_type": "stream",
     "text": [
      "Chessboard wasn't detected. Image pair:  left/l_1.png  and  right/r_1.png\n",
      "Chessboard wasn't detected. Image pair:  left/l_11.png  and  right/r_11.png\n",
      "Chessboard wasn't detected. Image pair:  left/l_12.png  and  right/r_12.png\n",
      "Chessboard wasn't detected. Image pair:  left/l_13.png  and  right/r_13.png\n",
      "Chessboard wasn't detected. Image pair:  left/l_15.png  and  right/r_15.png\n",
      "Chessboard wasn't detected. Image pair:  left/l_16.png  and  right/r_16.png\n",
      "Chessboard wasn't detected. Image pair:  left/l_17.png  and  right/r_17.png\n",
      "Chessboard wasn't detected. Image pair:  left/l_19.png  and  right/r_19.png\n",
      "Chessboard wasn't detected. Image pair:  left/l_2.png  and  right/r_2.png\n",
      "Chessboard wasn't detected. Image pair:  left/l_20.png  and  right/r_20.png\n",
      "Chessboard wasn't detected. Image pair:  left/l_21.png  and  right/r_21.png\n",
      "Chessboard wasn't detected. Image pair:  left/l_23.png  and  right/r_23.png\n",
      "Chessboard wasn't detected. Image pair:  left/l_24.png  and  right/r_24.png\n",
      "Chessboard wasn't detected. Image pair:  left/l_25.png  and  right/r_25.png\n",
      "Chessboard wasn't detected. Image pair:  left/l_27.png  and  right/r_27.png\n",
      "Chessboard wasn't detected. Image pair:  left/l_28.png  and  right/r_28.png\n",
      "Chessboard wasn't detected. Image pair:  left/l_29.png  and  right/r_29.png\n",
      "Chessboard wasn't detected. Image pair:  left/l_31.png  and  right/r_31.png\n",
      "Chessboard wasn't detected. Image pair:  left/l_33.png  and  right/r_33.png\n",
      "Chessboard wasn't detected. Image pair:  left/l_35.png  and  right/r_35.png\n",
      "Chessboard wasn't detected. Image pair:  left/l_36.png  and  right/r_36.png\n",
      "Chessboard wasn't detected. Image pair:  left/l_37.png  and  right/r_37.png\n",
      "Chessboard wasn't detected. Image pair:  left/l_38.png  and  right/r_38.png\n",
      "Chessboard wasn't detected. Image pair:  left/l_39.png  and  right/r_39.png\n",
      "Chessboard wasn't detected. Image pair:  left/l_40.png  and  right/r_40.png\n",
      "Chessboard wasn't detected. Image pair:  left/l_41.png  and  right/r_41.png\n",
      "Chessboard wasn't detected. Image pair:  left/l_42.png  and  right/r_42.png\n",
      "Chessboard wasn't detected. Image pair:  left/l_43.png  and  right/r_43.png\n",
      "Chessboard wasn't detected. Image pair:  left/l_44.png  and  right/r_44.png\n",
      "Chessboard wasn't detected. Image pair:  left/l_45.png  and  right/r_45.png\n",
      "Chessboard wasn't detected. Image pair:  left/l_46.png  and  right/r_46.png\n",
      "Chessboard wasn't detected. Image pair:  left/l_47.png  and  right/r_47.png\n",
      "Chessboard wasn't detected. Image pair:  left/l_48.png  and  right/r_48.png\n",
      "Chessboard wasn't detected. Image pair:  left/l_5.png  and  right/r_5.png\n",
      "Chessboard wasn't detected. Image pair:  left/l_50.png  and  right/r_50.png\n",
      "Chessboard wasn't detected. Image pair:  left/l_51.png  and  right/r_51.png\n",
      "Chessboard wasn't detected. Image pair:  left/l_52.png  and  right/r_52.png\n",
      "Chessboard wasn't detected. Image pair:  left/l_54.png  and  right/r_54.png\n",
      "Chessboard wasn't detected. Image pair:  left/l_59.png  and  right/r_59.png\n",
      "Chessboard wasn't detected. Image pair:  left/l_6.png  and  right/r_6.png\n",
      "Chessboard wasn't detected. Image pair:  left/l_61.png  and  right/r_61.png\n",
      "Chessboard wasn't detected. Image pair:  left/l_63.png  and  right/r_63.png\n",
      "Chessboard wasn't detected. Image pair:  left/l_65.png  and  right/r_65.png\n",
      "Chessboard wasn't detected. Image pair:  left/l_66.png  and  right/r_66.png\n",
      "Chessboard wasn't detected. Image pair:  left/l_67.png  and  right/r_67.png\n",
      "Chessboard wasn't detected. Image pair:  left/l_68.png  and  right/r_68.png\n",
      "Chessboard wasn't detected. Image pair:  left/l_69.png  and  right/r_69.png\n",
      "Chessboard wasn't detected. Image pair:  left/l_7.png  and  right/r_7.png\n",
      "Chessboard wasn't detected. Image pair:  left/l_71.png  and  right/r_71.png\n",
      "Chessboard wasn't detected. Image pair:  left/l_72.png  and  right/r_72.png\n",
      "Chessboard wasn't detected. Image pair:  left/l_73.png  and  right/r_73.png\n",
      "Chessboard wasn't detected. Image pair:  left/l_74.png  and  right/r_74.png\n",
      "Chessboard wasn't detected. Image pair:  left/l_75.png  and  right/r_75.png\n",
      "Chessboard wasn't detected. Image pair:  left/l_76.png  and  right/r_76.png\n",
      "Chessboard wasn't detected. Image pair:  left/l_77.png  and  right/r_77.png\n",
      "Chessboard wasn't detected. Image pair:  left/l_78.png  and  right/r_78.png\n",
      "Chessboard wasn't detected. Image pair:  left/l_79.png  and  right/r_79.png\n",
      "Chessboard wasn't detected. Image pair:  left/l_9.png  and  right/r_9.png\n"
     ]
    }
   ],
   "source": [
    "left_images = glob.glob('left/*.png')\n",
    "right_images = glob.glob('right/*.png')\n",
    "\n",
    "if len(left_images) != len(right_images):\n",
    "    try:\n",
    "        raise NameError('Must have same number of files in both directories')\n",
    "    except NameError:\n",
    "        print(\"Left images count: \", len(left_images))\n",
    "        print(\"Right images count: \", len(right_images))\n",
    "        raise\n",
    "\n",
    "left_images.sort()\n",
    "right_images.sort()\n",
    "image_pairs = zip(left_images, right_images)\n",
    "\n",
    "for left,right in image_pairs:\n",
    "    # Images\n",
    "    imgL = cv2.imread(left,0) # left (monochrome)\n",
    "    imgR = cv2.imread(right,0) # right (monochrome)\n",
    "    \n",
    "    # Find chessboard corners\n",
    "    ret_left, corners_left = cv2.findChessboardCorners(imgL, BOARD,\n",
    "                                                       flags=cv2.CALIB_CB_ADAPTIVE_THRESH | cv2.CALIB_CB_FILTER_QUADS)\n",
    "                                                       \n",
    "    ret_right, corners_right = cv2.findChessboardCorners(imgR, BOARD,\n",
    "                                                       flags=cv2.CALIB_CB_ADAPTIVE_THRESH | cv2.CALIB_CB_FILTER_QUADS)\n",
    "    \n",
    "    # If found, add object points and image points(refinied)\n",
    "    if ret_left and ret_right:\n",
    "        # Object points\n",
    "        wpoints.append(wp)\n",
    "        # Left points\n",
    "        refined_corners_left = cv2.cornerSubPix(imgL, corners_left, (11,11),(-1,-1), criteria) \n",
    "        left_imgpoints.append(refined_corners_left) \n",
    "        imageL = cv2.drawChessboardCorners(imgL, BOARD, refined_corners_left, ret_left)\n",
    "        # Right points\n",
    "        refined_corners_right = cv2.cornerSubPix(imgR, corners_right, (11,11),(-1,-1), criteria) \n",
    "        right_imgpoints.append(refined_corners_left) \n",
    "        imageR = cv2.drawChessboardCorners(imgR, BOARD, refined_corners_right, ret_right)\n",
    "    else:\n",
    "        # points were not found\n",
    "        print(\"Chessboard wasn't detected. Image pair: \", left, \" and \", right)\n",
    "        continue\n",
    "        \n",
    "    #cv2.imshow('Left Points', imageL)\n",
    "    #cv2.imshow('Right Points', imageR)\n",
    "    #cv2.waitKey(0)\n",
    "    #cv2.destroyAllWindows()"
   ]
  },
  {
   "cell_type": "code",
   "execution_count": 8,
   "metadata": {},
   "outputs": [
    {
     "name": "stdout",
     "output_type": "stream",
     "text": [
      "Starting Calibration...\n",
      "Calibration complete!\n",
      "\n",
      "Stereo Calibration Parameters\n",
      "\n",
      "rms: 0.9531273238875314\n",
      "\n",
      "Intricsic matrix:\n",
      "[[2.39280981e+03 0.00000000e+00 1.01760868e+03]\n",
      " [0.00000000e+00 2.39226392e+03 1.02638707e+03]\n",
      " [0.00000000e+00 0.00000000e+00 1.00000000e+00]]\n",
      "\n",
      "Distortion coefficients:\n",
      "[-7.92927220e-03  1.79030072e-01  4.92755444e-04 -4.74009098e-04\n",
      " -1.05186700e+00]\n",
      "\n",
      "Rotation vector:\n",
      "[[1. 0. 0.]\n",
      " [0. 1. 0.]\n",
      " [0. 0. 1.]]\n",
      "              \n",
      "Translation vector:\n",
      "[[ 6.45810463e-21]\n",
      " [-2.77565510e-17]\n",
      " [-4.41734082e-19]]\n"
     ]
    }
   ],
   "source": [
    "# Calibrate cameras\n",
    "print(\"Starting Calibration...\")\n",
    "h, w = imgL.shape\n",
    "ret_l, K1, D1, rvec_l, tvec_l = cv2.calibrateCamera(wpoints, left_imgpoints, (w, h) , None, None)\n",
    "n_K1, roi_l = cv2.getOptimalNewCameraMatrix(K1, D1, (w, h), 1, (w, h))\n",
    "\n",
    "ret_r, K2, D2, rvec_r, tvec_r = cv2.calibrateCamera(wpoints, right_imgpoints,(w, h) , None, None)\n",
    "n_K2, roi_r = cv2.getOptimalNewCameraMatrix(K2, D2, (w, h), 1, (w, h))\n",
    "\n",
    "# Stereo calibration\n",
    "flag = 0\n",
    "flag = cv2.CALIB_SAME_FOCAL_LENGTH | cv2.CALIB_FIX_INTRINSIC\n",
    "ret, intr_l, dist_l, intr_r, dist_r, R, T, E, F = cv2.stereoCalibrate(wpoints, left_imgpoints, right_imgpoints, n_K1, \n",
    "                                                                      D1, n_K2, D2, (w, h),flags=flag,criteria=criteria)\n",
    "print(\"Calibration complete!\")\n",
    "# Display results\n",
    "print(\"\\nStereo Calibration Parameters\\n\")\n",
    "print('rms: {}\\n\\nIntricsic matrix:\\n{}\\n\\nDistortion coefficients:\\n{}\\n\\nRotation vector:\\n{}\\n\\\n",
    "              \\nTranslation vector:\\n{}'.format(ret, intr_l, dist_l.ravel(), R, T),end=\"\\n\")"
   ]
  },
  {
   "cell_type": "code",
   "execution_count": 7,
   "metadata": {},
   "outputs": [],
   "source": [
    "# Rectify images\n",
    "R1, R2, P1, P2, Q, J1, J2 = cv2.stereoRectify(intr_l, dist_l, intr_r, dist_r, (w, h), R, T, alpha=0.9)\n",
    "leftMapX, leftMapY = cv2.initUndistortRectifyMap(intr_l, dist_l, R1, P1, (w, h), cv2.CV_32FC1)\n",
    "left_rectified = cv2.remap(imageL, leftMapX, leftMapY, cv2.INTER_LINEAR, cv2.BORDER_CONSTANT)\n",
    "rightMapX, rightMapY = cv2.initUndistortRectifyMap(intr_r, dist_r, R2, P2, (w, h), cv2.CV_32FC1)\n",
    "right_rectified = cv2.remap(imageR, rightMapX, rightMapY, cv2.INTER_LINEAR, cv2.BORDER_CONSTANT)"
   ]
  },
  {
   "cell_type": "code",
   "execution_count": null,
   "metadata": {},
   "outputs": [],
   "source": []
  }
 ],
 "metadata": {
  "kernelspec": {
   "display_name": "Python 3",
   "language": "python",
   "name": "python3"
  },
  "language_info": {
   "codemirror_mode": {
    "name": "ipython",
    "version": 3
   },
   "file_extension": ".py",
   "mimetype": "text/x-python",
   "name": "python",
   "nbconvert_exporter": "python",
   "pygments_lexer": "ipython3",
   "version": "3.8.5"
  }
 },
 "nbformat": 4,
 "nbformat_minor": 4
}
